{
  "nbformat": 4,
  "nbformat_minor": 0,
  "metadata": {
    "colab": {
      "provenance": [],
      "authorship_tag": "ABX9TyM4G2xHrejE9wzRTir1RN8X",
      "include_colab_link": true
    },
    "kernelspec": {
      "name": "python3",
      "display_name": "Python 3"
    },
    "language_info": {
      "name": "python"
    }
  },
  "cells": [
    {
      "cell_type": "markdown",
      "metadata": {
        "id": "view-in-github",
        "colab_type": "text"
      },
      "source": [
        "<a href=\"https://colab.research.google.com/github/darren96483/Math-Modeling-2025/blob/main/VAR%20Model.ipynb\" target=\"_parent\"><img src=\"https://colab.research.google.com/assets/colab-badge.svg\" alt=\"Open In Colab\"/></a>"
      ]
    },
    {
      "cell_type": "code",
      "source": [
        "import pandas as pd\n",
        "from statsmodels.tsa.api import VAR\n",
        "from statsmodels.tsa.stattools import adfuller\n",
        "from statsmodels.tsa.stattools import grangercausalitytests\n",
        "import matplotlib.pyplot as plt\n",
        "\n",
        "\n",
        "\n",
        "data = pd.read_csv(\"Untitled spreadsheet - Sheet1 (1).csv\")\n",
        "dataframe = pd.DataFrame(data)\n",
        "dataframe[\"Time\"] = pd.PeriodIndex(dataframe[\"Time\"], freq = \"Q\")\n",
        "dataframe.set_index(\"Time\", inplace = True)\n",
        "\n",
        "\n",
        "print(dataframe.columns)\n",
        "test1 = grangercausalitytests(dataframe[['Unemployment Rate', 'Inflation']], maxlag = 2, verbose = True)\n",
        "test2 = grangercausalitytests(dataframe[['GDP Growth', 'Unemployment Rate']], maxlag = 2, verbose = True)\n",
        "\n",
        "\n",
        "\n",
        "model = VAR(dataframe)\n",
        "fitted_model = model.fit(ic='aic')\n",
        "\n",
        "\n",
        "forecast = fitted_model.forecast(dataframe.values[-fitted_model.k_ar:], steps=5)\n",
        "forecast_index = pd.period_range(dataframe.index[-1] + 1, periods=5, freq=\"Q\")\n",
        "forecast_df = pd.DataFrame(forecast, index=forecast_index, columns=dataframe.columns)\n",
        "\n",
        "\n",
        "\n",
        "# Print forecast\n",
        "print(\"\\nForecasted Values:\")\n",
        "print(forecast_df)"
      ],
      "metadata": {
        "id": "6hlV0wpNWnPD",
        "outputId": "5ae71546-adf8-4642-8db6-2f768a6ee221",
        "colab": {
          "base_uri": "https://localhost:8080/"
        }
      },
      "execution_count": 62,
      "outputs": [
        {
          "output_type": "stream",
          "name": "stdout",
          "text": [
            "Index(['GDP Growth', 'Inflation', 'Unemployment Rate'], dtype='object')\n",
            "\n",
            "Granger Causality\n",
            "number of lags (no zero) 1\n",
            "ssr based F test:         F=12.6769 , p=0.0074  , df_denom=8, df_num=1\n",
            "ssr based chi2 test:   chi2=17.4307 , p=0.0000  , df=1\n",
            "likelihood ratio test: chi2=10.4453 , p=0.0012  , df=1\n",
            "parameter F test:         F=12.6769 , p=0.0074  , df_denom=8, df_num=1\n",
            "\n",
            "Granger Causality\n",
            "number of lags (no zero) 2\n",
            "ssr based F test:         F=0.3540  , p=0.7181  , df_denom=5, df_num=2\n",
            "ssr based chi2 test:   chi2=1.4162  , p=0.4926  , df=2\n",
            "likelihood ratio test: chi2=1.3245  , p=0.5157  , df=2\n",
            "parameter F test:         F=0.3540  , p=0.7181  , df_denom=5, df_num=2\n",
            "\n",
            "Granger Causality\n",
            "number of lags (no zero) 1\n",
            "ssr based F test:         F=2.2714  , p=0.1702  , df_denom=8, df_num=1\n",
            "ssr based chi2 test:   chi2=3.1231  , p=0.0772  , df=1\n",
            "likelihood ratio test: chi2=2.7491  , p=0.0973  , df=1\n",
            "parameter F test:         F=2.2714  , p=0.1702  , df_denom=8, df_num=1\n",
            "\n",
            "Granger Causality\n",
            "number of lags (no zero) 2\n",
            "ssr based F test:         F=0.0033  , p=0.9967  , df_denom=5, df_num=2\n",
            "ssr based chi2 test:   chi2=0.0131  , p=0.9935  , df=2\n",
            "likelihood ratio test: chi2=0.0130  , p=0.9935  , df=2\n",
            "parameter F test:         F=0.0033  , p=0.9967  , df_denom=5, df_num=2\n",
            "\n",
            "Forecasted Values:\n",
            "        GDP Growth  Inflation  Unemployment Rate\n",
            "2023Q1    3.050531   3.745608           4.398896\n",
            "2023Q2    3.499636   4.000479           4.367825\n",
            "2023Q3    2.605110   3.558714           4.372515\n",
            "2023Q4    2.367889   3.467760           4.349985\n",
            "2024Q1    3.152066   3.881350           4.321100\n"
          ]
        },
        {
          "output_type": "stream",
          "name": "stderr",
          "text": [
            "/usr/local/lib/python3.11/dist-packages/statsmodels/tsa/stattools.py:1556: FutureWarning: verbose is deprecated since functions should not print results\n",
            "  warnings.warn(\n",
            "/usr/local/lib/python3.11/dist-packages/statsmodels/tsa/stattools.py:1556: FutureWarning: verbose is deprecated since functions should not print results\n",
            "  warnings.warn(\n"
          ]
        }
      ]
    }
  ]
}