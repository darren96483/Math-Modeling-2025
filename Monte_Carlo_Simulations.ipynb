{
  "nbformat": 4,
  "nbformat_minor": 0,
  "metadata": {
    "colab": {
      "provenance": [],
      "authorship_tag": "ABX9TyMPJu9v9v3ZCuU+USzYNZ1m",
      "include_colab_link": true
    },
    "kernelspec": {
      "name": "python3",
      "display_name": "Python 3"
    },
    "language_info": {
      "name": "python"
    }
  },
  "cells": [
    {
      "cell_type": "markdown",
      "metadata": {
        "id": "view-in-github",
        "colab_type": "text"
      },
      "source": [
        "<a href=\"https://colab.research.google.com/github/darren96483/Math-Modeling-2025/blob/main/Monte_Carlo_Simulations.ipynb\" target=\"_parent\"><img src=\"https://colab.research.google.com/assets/colab-badge.svg\" alt=\"Open In Colab\"/></a>"
      ]
    },
    {
      "cell_type": "code",
      "source": [
        "import numpy as np\n",
        "\n",
        "# parameters\n",
        "n = 1000000\n",
        "target = 8\n",
        "successes = 0\n",
        "\n",
        "for _ in range(n):\n",
        "  die1 = np.random.randint(1,7)\n",
        "  die2 = np.random.randint(1,7)\n",
        "  if die1 + die2 == target:\n",
        "      successes += 1\n",
        "\n",
        "probability = successes/n\n",
        "print(\"The estimated probability of rolling a probability of 8 from two die is\", probability)"
      ],
      "metadata": {
        "colab": {
          "base_uri": "https://localhost:8080/"
        },
        "id": "XNckmrmVaivb",
        "outputId": "501f069a-6476-4137-a83f-a161c9dd3c8d"
      },
      "execution_count": 27,
      "outputs": [
        {
          "output_type": "stream",
          "name": "stdout",
          "text": [
            "The estimated probability of rolling a probability of 8 from two die is 0.139675\n"
          ]
        }
      ]
    },
    {
      "cell_type": "code",
      "source": [
        "import numpy  as np\n",
        "\n",
        "mean = 0.22\n",
        "std = 0.5\n",
        "n = 1000000\n",
        "childcare_cost_per_hour = 16.20\n",
        "Taylor_Swift = {\"kids\": 0, \"work_hours\": 10, \"wage\": 50, \"commute\": 1}\n",
        "Jane_Doe = {\"kids\": 2, \"work_hours\": 8, \"wage\": 30, \"commute\": 0.5}\n",
        "\n",
        "def probability_model(worker, n, mean, std):\n",
        "\n",
        "  kids = worker[\"kids\"]\n",
        "  work_hours = worker[\"work_hours\"]\n",
        "  wage = worker[\"wage\"]\n",
        "  commute = worker[\"commute\"]\n",
        "\n",
        "  worker_commute_benefit = commute * wage\n",
        "  worker_childcare_benefit = work_hours * kids * childcare_cost_per_hour\n",
        "  worker_benefit = worker_commute_benefit + worker_childcare_benefit\n",
        "\n",
        "  productivity_change = np.random.normal(mean, std,n)\n",
        "\n",
        "  employer_benefit = productivity_change * wage * work_hours\n",
        "\n",
        "  total_benefit = worker_benefit + employer_benefit\n",
        "\n",
        "  successes = np.sum(total_benefit > 0)\n",
        "\n",
        "  return successes / n\n",
        "\n",
        "Jane_Doe_probability = probability_model(Jane_Doe, n, mean, std)\n",
        "Taylor_Swift_probability = probability_model(Taylor_Swift, n, mean, std)\n",
        "\n",
        "print(\"Jane Doe:\", Jane_Doe_probability)\n",
        "print(\"Taylor Swift:\", Taylor_Swift_probability)\n"
      ],
      "metadata": {
        "colab": {
          "base_uri": "https://localhost:8080/"
        },
        "id": "Mseq13CkgIuC",
        "outputId": "85f6de2a-e5f9-4206-cb13-b6edf3ee3a3a"
      },
      "execution_count": 52,
      "outputs": [
        {
          "output_type": "stream",
          "name": "stdout",
          "text": [
            "Jane Doe: 0.99675\n",
            "Taylor Swift: 0.739368\n"
          ]
        }
      ]
    },
    {
      "cell_type": "code",
      "source": [],
      "metadata": {
        "id": "wxQMTaLagZOm"
      },
      "execution_count": null,
      "outputs": []
    }
  ]
}